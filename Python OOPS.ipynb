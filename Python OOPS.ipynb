{
 "cells": [
  {
   "cell_type": "code",
   "execution_count": 1,
   "metadata": {},
   "outputs": [],
   "source": [
    "class Person:\n",
    "    pass ## pass is a keyword "
   ]
  },
  {
   "cell_type": "code",
   "execution_count": 3,
   "metadata": {},
   "outputs": [],
   "source": [
    "Lovish_Pandey = Person()\n",
    "Lovish_Pandey.name = \"Lovish\"\n",
    "Lovish_Pandey.surname = \"Pandey\"\n",
    "Lovish_Pandey.year_of_birth = 1997"
   ]
  },
  {
   "cell_type": "code",
   "execution_count": 4,
   "metadata": {},
   "outputs": [
    {
     "name": "stdout",
     "output_type": "stream",
     "text": [
      "<__main__.Person object at 0x0000026515981B48>\n"
     ]
    }
   ],
   "source": [
    "print (Lovish_Pandey)"
   ]
  },
  {
   "cell_type": "code",
   "execution_count": 5,
   "metadata": {},
   "outputs": [
    {
     "name": "stdout",
     "output_type": "stream",
     "text": [
      "Lovish Pandey 1997\n"
     ]
    }
   ],
   "source": [
    "print (Lovish_Pandey.name , Lovish_Pandey.surname, Lovish_Pandey.year_of_birth)"
   ]
  },
  {
   "cell_type": "code",
   "execution_count": 17,
   "metadata": {},
   "outputs": [],
   "source": [
    "class Person:\n",
    "    def __init__(self, name, surname, year_of_birth): ## we can have any name at place of self , but it is important \n",
    "        ## idea of self is to point to the current object\n",
    "        #self.name1 = name\n",
    "        #self.surname = surname\n",
    "        #self.year_of_birth = year_of_birth\n",
    "        print(\"inside init\")\n",
    "    def test(self):\n",
    "        print(\"Hello\") #### whenevr we want to acces something inside the class from outside,"
   ]
  },
  {
   "cell_type": "code",
   "execution_count": 18,
   "metadata": {},
   "outputs": [
    {
     "name": "stdout",
     "output_type": "stream",
     "text": [
      "inside init\n",
      "<__main__.Person object at 0x0000026515999D08>\n"
     ]
    }
   ],
   "source": [
    "a = Person(\"Lovish\",\"Pandey\",535345) ## for the access of the class we create an object of the class to gain access of everything inside it \n",
    "print(a)## for creating object; var =classname()\n",
    "## __init__ gets called whenever object created meaning that we need to pass whatever the __init__ takes at time of creating the object(just like a constructor) "
   ]
  },
  {
   "cell_type": "code",
   "execution_count": 26,
   "metadata": {},
   "outputs": [],
   "source": [
    "class Person:\n",
    "    def __init__(self): ## we can have any name at place of self , but it is important \n",
    "               print(\"inside init\")\n",
    "    def test(self):\n",
    "        print(\"Hello\")"
   ]
  },
  {
   "cell_type": "code",
   "execution_count": 28,
   "metadata": {},
   "outputs": [
    {
     "name": "stdout",
     "output_type": "stream",
     "text": [
      "inside init\n",
      "<bound method Person.test of <__main__.Person object at 0x00000265159A8F08>>\n"
     ]
    }
   ],
   "source": [
    "a = Person() \n",
    "print(a) ## when nothing , deafault init fumction is called whenever and object i called "
   ]
  },
  {
   "cell_type": "code",
   "execution_count": 29,
   "metadata": {},
   "outputs": [
    {
     "name": "stdout",
     "output_type": "stream",
     "text": [
      "Hello\n"
     ]
    }
   ],
   "source": [
    "a.test() ## using abject to acces the test() in person class ."
   ]
  },
  {
   "cell_type": "code",
   "execution_count": 18,
   "metadata": {},
   "outputs": [],
   "source": [
    "class Person:\n",
    "    def __init__(self, name, surname, year_of_birth): ## we can have any name at place of self , but it is important \n",
    "        self.name1 = name\n",
    "        self.surname = surname\n",
    "        self.year_of_birth = year_of_birth\n",
    "        print(\"inside init\")\n",
    "    def test(self):\n",
    "        print(\"Hello\") #### whenevr we want to acces something inside the class from outside"
   ]
  },
  {
   "cell_type": "code",
   "execution_count": 24,
   "metadata": {},
   "outputs": [
    {
     "name": "stdout",
     "output_type": "stream",
     "text": [
      "inside init\n",
      "<bound method Person.test of <__main__.Person object at 0x00000265159A5248>>\n"
     ]
    }
   ],
   "source": [
    "a = Person() \n",
    "print(a) ## output shows that init gets automatically called ."
   ]
  },
  {
   "cell_type": "code",
   "execution_count": 23,
   "metadata": {},
   "outputs": [],
   "source": [
    "class Person:\n",
    "    \n",
    "    def __init__(a, name, surname, year_of_birth):\n",
    "        a.name = name\n",
    "        a.surname = surname\n",
    "        a.year_of_birth = year_of_birth\n",
    "\n",
    "    def age(a, current_year):\n",
    "        print(\"i am age parent\")\n",
    "        return current_year - a.year_of_birth\n",
    "    \n",
    "    \n",
    "    def concatlist(b,lst1,lst2):\n",
    "        return lst1+lst2\n",
    "    \n",
    "    \n",
    "    \n",
    "    def __str__(a):\n",
    "        print (\"Iam __str__ method\")\n",
    "        return \"%s %s was born in %d .\" % (a.name, a.surname, a.year_of_birth)\n",
    "     "
   ]
  },
  {
   "cell_type": "code",
   "execution_count": 37,
   "metadata": {},
   "outputs": [
    {
     "name": "stdout",
     "output_type": "stream",
     "text": [
      "Iam __str__ method\n",
      "Lovish Pandey was born in 1997 .\n"
     ]
    }
   ],
   "source": [
    "obj = Person(\"Lovish\",\"Pandey\",1997)\n",
    "print(obj)"
   ]
  },
  {
   "cell_type": "code",
   "execution_count": 38,
   "metadata": {},
   "outputs": [],
   "source": [
    "class Person:\n",
    "  \n",
    "    def set_name(self, name):\n",
    "        self.name = name\n",
    "        \n",
    "    def set_surname(self, surname):\n",
    "        self.surname = surname\n",
    "        \n",
    "    def set_year_of_birth(self, year_of_birth):\n",
    "        self.year_of_birth = year_of_birth\n",
    "        \n",
    "    def age(self, current_year):\n",
    "        return current_year - self.year_of_birth\n",
    "    \n",
    "    def __str__(self):\n",
    "        return \"%s %s was born in %d .\" \\\n",
    "                % (self.name, self.surname, self.year_of_birth)"
   ]
  },
  {
   "cell_type": "code",
   "execution_count": 39,
   "metadata": {},
   "outputs": [
    {
     "data": {
      "text/plain": [
       "'fdf'"
      ]
     },
     "execution_count": 39,
     "metadata": {},
     "output_type": "execute_result"
    }
   ],
   "source": [
    "president = Person()\n",
    "president.set_name(\"sudh\")\n",
    "president.set_surname(\"fdf\")\n",
    "president.surname ####this is a bad practice , should be mentioned in __init__"
   ]
  },
  {
   "cell_type": "code",
   "execution_count": 43,
   "metadata": {},
   "outputs": [
    {
     "name": "stdout",
     "output_type": "stream",
     "text": [
      "A\n",
      "B\n"
     ]
    }
   ],
   "source": [
    "##Inheritance\n",
    "\n",
    "class A():\n",
    "\n",
    "    def test(self):\n",
    "        print('A')\n",
    "        \n",
    "class B():\n",
    "    def test(self):\n",
    "        print('B')\n",
    "        \n",
    "        \n",
    "class c(B,A):\n",
    "    obja=A()\n",
    "    objb=B()\n",
    "    obja.test()\n",
    "    objb.test()"
   ]
  },
  {
   "cell_type": "code",
   "execution_count": 44,
   "metadata": {},
   "outputs": [],
   "source": [
    "class xyz:\n",
    "    def __init__(self, a , b ,c = 5 ) :\n",
    "        self.a = a \n",
    "        self.b = b\n",
    "        self.c = c\n",
    "    def test(self):\n",
    "        return \"this is  a public method\""
   ]
  },
  {
   "cell_type": "code",
   "execution_count": 60,
   "metadata": {},
   "outputs": [
    {
     "data": {
      "text/plain": [
       "'this is  a public method'"
      ]
     },
     "execution_count": 60,
     "metadata": {},
     "output_type": "execute_result"
    }
   ],
   "source": [
    "obj = xyz(4,5,6)\n",
    "obj.test()"
   ]
  },
  {
   "cell_type": "code",
   "execution_count": 49,
   "metadata": {},
   "outputs": [
    {
     "data": {
      "text/plain": [
       "4"
      ]
     },
     "execution_count": 49,
     "metadata": {},
     "output_type": "execute_result"
    }
   ],
   "source": [
    "obj.a"
   ]
  },
  {
   "cell_type": "code",
   "execution_count": 47,
   "metadata": {},
   "outputs": [
    {
     "data": {
      "text/plain": [
       "5"
      ]
     },
     "execution_count": 47,
     "metadata": {},
     "output_type": "execute_result"
    }
   ],
   "source": [
    "obj.b"
   ]
  },
  {
   "cell_type": "code",
   "execution_count": 48,
   "metadata": {},
   "outputs": [
    {
     "data": {
      "text/plain": [
       "6"
      ]
     },
     "execution_count": 48,
     "metadata": {},
     "output_type": "execute_result"
    }
   ],
   "source": [
    "obj.c"
   ]
  },
  {
   "cell_type": "code",
   "execution_count": 51,
   "metadata": {},
   "outputs": [],
   "source": [
    "class abc(xyz):\n",
    "    def __init__(self,a,b):\n",
    "        super(abc,self).__init__(a,b)"
   ]
  },
  {
   "cell_type": "code",
   "execution_count": 52,
   "metadata": {},
   "outputs": [],
   "source": [
    "obj2=abc(\"k\",\"l\")"
   ]
  },
  {
   "cell_type": "code",
   "execution_count": 54,
   "metadata": {},
   "outputs": [
    {
     "data": {
      "text/plain": [
       "'k'"
      ]
     },
     "execution_count": 54,
     "metadata": {},
     "output_type": "execute_result"
    }
   ],
   "source": [
    "obj2.a\n"
   ]
  },
  {
   "cell_type": "code",
   "execution_count": 57,
   "metadata": {},
   "outputs": [
    {
     "data": {
      "text/plain": [
       "'l'"
      ]
     },
     "execution_count": 57,
     "metadata": {},
     "output_type": "execute_result"
    }
   ],
   "source": [
    "obj2.b"
   ]
  },
  {
   "cell_type": "code",
   "execution_count": 61,
   "metadata": {},
   "outputs": [
    {
     "data": {
      "text/plain": [
       "5"
      ]
     },
     "execution_count": 61,
     "metadata": {},
     "output_type": "execute_result"
    }
   ],
   "source": [
    "obj2.c ## here instead of using obj2 of class abc we are able to call c from class xyz as abc has inherited it from xyz"
   ]
  },
  {
   "cell_type": "code",
   "execution_count": 67,
   "metadata": {},
   "outputs": [],
   "source": [
    "###student child class of person\n",
    "### super used to point to the parent class\n",
    "class Student(Person):\n",
    "    def __init__(self, student_id, *args):\n",
    "        super(Student, self).__init__(*args)\n",
    "        self._student_id = student_id"
   ]
  },
  {
   "cell_type": "code",
   "execution_count": 69,
   "metadata": {},
   "outputs": [
    {
     "data": {
      "text/plain": [
       "'Charlie'"
      ]
     },
     "execution_count": 69,
     "metadata": {},
     "output_type": "execute_result"
    }
   ],
   "source": [
    "charlie = Student(1, 'Charlie', 'Brown', 2006)\n",
    "charlie.name"
   ]
  },
  {
   "cell_type": "code",
   "execution_count": 70,
   "metadata": {},
   "outputs": [
    {
     "data": {
      "text/plain": [
       "'Brown'"
      ]
     },
     "execution_count": 70,
     "metadata": {},
     "output_type": "execute_result"
    }
   ],
   "source": [
    "charlie.surname"
   ]
  },
  {
   "cell_type": "code",
   "execution_count": 71,
   "metadata": {},
   "outputs": [
    {
     "data": {
      "text/plain": [
       "2006"
      ]
     },
     "execution_count": 71,
     "metadata": {},
     "output_type": "execute_result"
    }
   ],
   "source": [
    "charlie.year_of_birth"
   ]
  },
  {
   "cell_type": "code",
   "execution_count": 74,
   "metadata": {},
   "outputs": [
    {
     "data": {
      "text/plain": [
       "1"
      ]
     },
     "execution_count": 74,
     "metadata": {},
     "output_type": "execute_result"
    }
   ],
   "source": [
    "charlie._student_id"
   ]
  },
  {
   "cell_type": "code",
   "execution_count": 75,
   "metadata": {},
   "outputs": [
    {
     "data": {
      "text/plain": [
       "__main__.Student"
      ]
     },
     "execution_count": 75,
     "metadata": {},
     "output_type": "execute_result"
    }
   ],
   "source": [
    "type(charlie)"
   ]
  },
  {
   "cell_type": "code",
   "execution_count": 79,
   "metadata": {},
   "outputs": [
    {
     "data": {
      "text/plain": [
       "True"
      ]
     },
     "execution_count": 79,
     "metadata": {},
     "output_type": "execute_result"
    }
   ],
   "source": [
    "isinstance(charlie,Person) ## object of child class implies it is also object of parent class but vice versa not true "
   ]
  },
  {
   "cell_type": "code",
   "execution_count": 77,
   "metadata": {},
   "outputs": [
    {
     "data": {
      "text/plain": [
       "True"
      ]
     },
     "execution_count": 77,
     "metadata": {},
     "output_type": "execute_result"
    }
   ],
   "source": [
    "isinstance(charlie,object) ## object class is super class of any class "
   ]
  },
  {
   "cell_type": "code",
   "execution_count": null,
   "metadata": {},
   "outputs": [],
   "source": [
    "## overriding happens in case of child parent scenario "
   ]
  }
 ],
 "metadata": {
  "kernelspec": {
   "display_name": "Python 3",
   "language": "python",
   "name": "python3"
  },
  "language_info": {
   "codemirror_mode": {
    "name": "ipython",
    "version": 3
   },
   "file_extension": ".py",
   "mimetype": "text/x-python",
   "name": "python",
   "nbconvert_exporter": "python",
   "pygments_lexer": "ipython3",
   "version": "3.7.4"
  }
 },
 "nbformat": 4,
 "nbformat_minor": 2
}
