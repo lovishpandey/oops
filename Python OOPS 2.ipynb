{
 "cells": [
  {
   "cell_type": "code",
   "execution_count": 13,
   "metadata": {},
   "outputs": [
    {
     "name": "stdout",
     "output_type": "stream",
     "text": [
      "A\n",
      "B\n"
     ]
    }
   ],
   "source": [
    "import pandas as pd \n",
    "%matplotlib inline\n",
    "class A():\n",
    "\n",
    "    def test(self):\n",
    "        print('A')\n",
    "        \n",
    "class B():\n",
    "    def test(self):\n",
    "        print('B')\n",
    "        \n",
    "        \n",
    "class c(B,A):\n",
    "    obja=A()\n",
    "    objb=B()\n",
    "    obja.test()\n",
    "    objb.test() ## multiple inheritance\n"
   ]
  },
  {
   "cell_type": "code",
   "execution_count": 2,
   "metadata": {},
   "outputs": [],
   "source": [
    "## multilevel inheritence \n",
    "class Tyres:\n",
    "    def __init__(self, branch, belted_bias, opt_pressure): ## overriding __init__ from object class\n",
    "        self.branch = branch\n",
    "        self.belted_bias = belted_bias\n",
    "        self.opt_pressure = opt_pressure\n",
    "        \n",
    "    def __str__(self): ## overriding __str__ from object class\n",
    "        return (\"Tyres: \\n \\tBranch: \" + self.branch +\n",
    "               \"\\n \\tBelted-bias: \" + str(self.belted_bias) + \n",
    "               \"\\n \\tOptimal pressure: \" + str(self.opt_pressure))\n",
    "        \n",
    "class Engine:\n",
    "    def __init__(self, fuel_type, noise_level):  ## overriding __init__ from Tyres class\n",
    "        self.fuel_type = fuel_type\n",
    "        self.noise_level = noise_level\n",
    "        \n",
    "    def __str__(self): ## overriding __str__ from Tyres class\n",
    "        return (\"Engine: \\n \\tFuel type: \" + self.fuel_type +\n",
    "                \"\\n \\tNoise level:\" + str(self.noise_level))\n",
    "        \n",
    "class Body:\n",
    "    def __init__(self, size):\n",
    "        self.size = size\n",
    "        \n",
    "    def __str__(self):\n",
    "        return \"Body:\\n \\tSize: \" + self.size\n",
    "        \n",
    "class Car:\n",
    "    def __init__(self, tyres, engine, body):\n",
    "        self.tyres = tyres\n",
    "        self.engine = engine\n",
    "        self.body = body\n",
    "        \n",
    "    def tyrespec(self):\n",
    "        return  self.tyres\n",
    "        \n",
    "    def __str__(self):\n",
    "        return str(self.tyres) + \"\\n\" + str(self.engine) + \"\\n\" + str(self.body)\n"
   ]
  },
  {
   "cell_type": "code",
   "execution_count": 4,
   "metadata": {},
   "outputs": [],
   "source": [
    "t = Tyres('Pirelli', True, 2.0)\n",
    "e = Engine('Diesel', 3)\n",
    "b = Body('Medium')\n",
    "c = Car(t, e, b)"
   ]
  },
  {
   "cell_type": "code",
   "execution_count": 6,
   "metadata": {},
   "outputs": [
    {
     "name": "stdout",
     "output_type": "stream",
     "text": [
      "Tyres: \n",
      " \tBranch: Pirelli\n",
      " \tBelted-bias: True\n",
      " \tOptimal pressure: 2.0\n",
      "Engine: \n",
      " \tFuel type: Diesel\n",
      " \tNoise level:3\n",
      "Body:\n",
      " \tSize: Medium\n"
     ]
    }
   ],
   "source": [
    "print(c)"
   ]
  },
  {
   "cell_type": "code",
   "execution_count": 8,
   "metadata": {},
   "outputs": [
    {
     "name": "stdout",
     "output_type": "stream",
     "text": [
      "22 is a 34 born in 1954.\n"
     ]
    }
   ],
   "source": [
    "class Dog:\n",
    "    def __init__(self, name, year_of_birth, breed): ## its type decided according to the parameters passed\n",
    "        self._name = name\n",
    "        self._year_of_birth = year_of_birth\n",
    "        self._breed = breed\n",
    "\n",
    "    def __str__(self):\n",
    "        return \"%d is a %d born in %d.\" % (self._name, self._breed, self._year_of_birth)\n",
    "\n",
    "kudrjavka = Dog(22, 1954, 34)\n",
    "print(kudrjavka)"
   ]
  },
  {
   "cell_type": "code",
   "execution_count": null,
   "metadata": {},
   "outputs": [],
   "source": [
    "#difference between kwargs and args \n",
    "\n",
    "def mathematicaloperation(var1=5, var2=7, operation='+'): ## kwargs holds key value pair \n",
    "    if operation == '+':\n",
    "        print (var1 + var2)\n",
    "    \n",
    "    if operation =='-':\n",
    "        print(var1 - var2)\n",
    "        \n",
    "def mathematicaloperation(var1, var2, operation='+'): ## args just passes the variable \n",
    "    if operation == '+':\n",
    "        print (var1 + var2)\n",
    "    \n",
    "    if operation =='-':\n",
    "        print(var1 - var2)"
   ]
  },
  {
   "cell_type": "code",
   "execution_count": 1,
   "metadata": {},
   "outputs": [],
   "source": [
    "### get the input from the users \n",
    "class Student:\n",
    "    def __init__(self ):\n",
    "        self.name=input(\"name\")\n",
    "        self.surname= input(\"surname\")\n",
    "        self.yob=input(\"yob\")\n",
    "        self.std=input(\"std\")\n",
    "    \n",
    "    def __str__(self):\n",
    "        print(str(self.name), str(self.surname), str(self.yob), str(self.std) )\n",
    "   "
   ]
  },
  {
   "cell_type": "code",
   "execution_count": 2,
   "metadata": {},
   "outputs": [],
   "source": [
    "class school(Student):\n",
    "    def __init__(self , *args):\n",
    "        super(school, self).__init__(*args)\n",
    "        self.schoolname = input(\"schoolname\")\n",
    "       \n",
    "    def __str__(self):\n",
    "        print(str(self.schoolname), str(self.name), str(self.surname), str(self.yob), str(self.std)  )"
   ]
  },
  {
   "cell_type": "code",
   "execution_count": 4,
   "metadata": {},
   "outputs": [
    {
     "name": "stdout",
     "output_type": "stream",
     "text": [
      "number of students2\n"
     ]
    }
   ],
   "source": [
    "ask = int(input(\"number of students\"))"
   ]
  },
  {
   "cell_type": "code",
   "execution_count": 9,
   "metadata": {},
   "outputs": [
    {
     "name": "stdout",
     "output_type": "stream",
     "text": [
      "namewert\n",
      "surnamesdf\n",
      "yobzx\n",
      "stdzxv\n",
      "schoolnameAS\n",
      "nameSD\n",
      "surnamegh\n",
      "yobdfgh\n",
      "stdxcvb\n",
      "schoolnamesdfgh\n"
     ]
    }
   ],
   "source": [
    "x=[]\n",
    "for i in range(ask) :\n",
    "    obj = school()\n",
    "    x.append(obj)\n",
    "    pd.DataFrame.from_records(s.__dict__ for s in x)    \n",
    "    #print(x.__str__)"
   ]
  }
 ],
 "metadata": {
  "kernelspec": {
   "display_name": "Python 3",
   "language": "python",
   "name": "python3"
  },
  "language_info": {
   "codemirror_mode": {
    "name": "ipython",
    "version": 3
   },
   "file_extension": ".py",
   "mimetype": "text/x-python",
   "name": "python",
   "nbconvert_exporter": "python",
   "pygments_lexer": "ipython3",
   "version": "3.7.4"
  }
 },
 "nbformat": 4,
 "nbformat_minor": 2
}
